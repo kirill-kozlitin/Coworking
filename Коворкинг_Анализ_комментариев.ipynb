{
  "nbformat": 4,
  "nbformat_minor": 0,
  "metadata": {
    "colab": {
      "provenance": [],
      "authorship_tag": "ABX9TyP+fyT4fitiAXPhPz9tR4Yw",
      "include_colab_link": true
    },
    "kernelspec": {
      "name": "python3",
      "display_name": "Python 3"
    },
    "language_info": {
      "name": "python"
    }
  },
  "cells": [
    {
      "cell_type": "markdown",
      "metadata": {
        "id": "view-in-github",
        "colab_type": "text"
      },
      "source": [
        "<a href=\"https://colab.research.google.com/github/kirill-kozlitin/Coworking/blob/main/%D0%9A%D0%BE%D0%B2%D0%BE%D1%80%D0%BA%D0%B8%D0%BD%D0%B3_%D0%90%D0%BD%D0%B0%D0%BB%D0%B8%D0%B7_%D0%BA%D0%BE%D0%BC%D0%BC%D0%B5%D0%BD%D1%82%D0%B0%D1%80%D0%B8%D0%B5%D0%B2.ipynb\" target=\"_parent\"><img src=\"https://colab.research.google.com/assets/colab-badge.svg\" alt=\"Open In Colab\"/></a>"
      ]
    },
    {
      "cell_type": "markdown",
      "source": [
        "#### Импорт бибилиотек"
      ],
      "metadata": {
        "id": "k2tvV6n4o-SN"
      }
    },
    {
      "cell_type": "code",
      "execution_count": 1,
      "metadata": {
        "id": "_7eHznIXnpca"
      },
      "outputs": [],
      "source": [
        "import pandas as pd\n",
        "import numpy as np\n",
        "import itertools\n",
        "import matplotlib.pyplot as plt\n",
        "#\n",
        "\n",
        "# # Выведите результат\n",
        "# for combination in all_combinations:\n",
        "#     print(combination)\n",
        "# Этот код создаст все возможные комбинации\n",
        "pd.set_option('display.float_format', '{:.2f}'.format)"
      ]
    },
    {
      "cell_type": "code",
      "source": [
        "from google.colab import drive\n",
        "drive.mount('/content/drive')"
      ],
      "metadata": {
        "colab": {
          "base_uri": "https://localhost:8080/"
        },
        "id": "SfAgSOAYo9Zx",
        "outputId": "40b9f4d0-dd30-4c71-e77d-ca0af2eef184"
      },
      "execution_count": 2,
      "outputs": [
        {
          "output_type": "stream",
          "name": "stdout",
          "text": [
            "Drive already mounted at /content/drive; to attempt to forcibly remount, call drive.mount(\"/content/drive\", force_remount=True).\n"
          ]
        }
      ]
    },
    {
      "cell_type": "markdown",
      "source": [
        "#### Загрузка комментариев"
      ],
      "metadata": {
        "id": "SH9Ox9DspF2J"
      }
    },
    {
      "cell_type": "code",
      "source": [
        "path = '/content/drive/MyDrive/Коворкинг/Выборки/'\n",
        "data = pd.read_excel(path + 'Комментарии.xlsx')"
      ],
      "metadata": {
        "id": "jwmqG0sxn2M3"
      },
      "execution_count": 3,
      "outputs": []
    },
    {
      "cell_type": "markdown",
      "source": [
        "#### Предобработка"
      ],
      "metadata": {
        "id": "QeueAxkWqyjU"
      }
    },
    {
      "cell_type": "code",
      "source": [
        "data[['Название', 'Адрес']] = data[['Название', 'Адрес']].ffill()"
      ],
      "metadata": {
        "id": "_YbTdNY2p33V"
      },
      "execution_count": 4,
      "outputs": []
    },
    {
      "cell_type": "code",
      "source": [
        "data.head()"
      ],
      "metadata": {
        "colab": {
          "base_uri": "https://localhost:8080/",
          "height": 206
        },
        "id": "pyuYxtlzqwLv",
        "outputId": "4a6998be-f938-4ebe-9d38-88c354400f92"
      },
      "execution_count": 5,
      "outputs": [
        {
          "output_type": "execute_result",
          "data": {
            "text/plain": [
              "  Название                   Адрес  \\\n",
              "0  & Place  Невский проспект, 71/1   \n",
              "1  & Place  Невский проспект, 71/1   \n",
              "2  & Place  Невский проспект, 71/1   \n",
              "3  & Place  Невский проспект, 71/1   \n",
              "4  & Place  Невский проспект, 71/1   \n",
              "\n",
              "                                               Отзыв  Оценка  \n",
              "0  Место, сделанное людьми для людей. Удобное рас...    5.00  \n",
              "1  Обожаю это место. Живу не в питере, но в после...    5.00  \n",
              "2  Суперкомфоотный коворкинг для работы! Уже боль...    5.00  \n",
              "3  Супер место. Чистота везде и всегда. Кофе - де...    5.00  \n",
              "4  Выбирали из множества вариантов, но этот ковор...    5.00  "
            ],
            "text/html": [
              "\n",
              "\n",
              "  <div id=\"df-75269359-7706-48dd-a0b2-ad74021ca245\">\n",
              "    <div class=\"colab-df-container\">\n",
              "      <div>\n",
              "<style scoped>\n",
              "    .dataframe tbody tr th:only-of-type {\n",
              "        vertical-align: middle;\n",
              "    }\n",
              "\n",
              "    .dataframe tbody tr th {\n",
              "        vertical-align: top;\n",
              "    }\n",
              "\n",
              "    .dataframe thead th {\n",
              "        text-align: right;\n",
              "    }\n",
              "</style>\n",
              "<table border=\"1\" class=\"dataframe\">\n",
              "  <thead>\n",
              "    <tr style=\"text-align: right;\">\n",
              "      <th></th>\n",
              "      <th>Название</th>\n",
              "      <th>Адрес</th>\n",
              "      <th>Отзыв</th>\n",
              "      <th>Оценка</th>\n",
              "    </tr>\n",
              "  </thead>\n",
              "  <tbody>\n",
              "    <tr>\n",
              "      <th>0</th>\n",
              "      <td>&amp; Place</td>\n",
              "      <td>Невский проспект, 71/1</td>\n",
              "      <td>Место, сделанное людьми для людей. Удобное рас...</td>\n",
              "      <td>5.00</td>\n",
              "    </tr>\n",
              "    <tr>\n",
              "      <th>1</th>\n",
              "      <td>&amp; Place</td>\n",
              "      <td>Невский проспект, 71/1</td>\n",
              "      <td>Обожаю это место. Живу не в питере, но в после...</td>\n",
              "      <td>5.00</td>\n",
              "    </tr>\n",
              "    <tr>\n",
              "      <th>2</th>\n",
              "      <td>&amp; Place</td>\n",
              "      <td>Невский проспект, 71/1</td>\n",
              "      <td>Суперкомфоотный коворкинг для работы! Уже боль...</td>\n",
              "      <td>5.00</td>\n",
              "    </tr>\n",
              "    <tr>\n",
              "      <th>3</th>\n",
              "      <td>&amp; Place</td>\n",
              "      <td>Невский проспект, 71/1</td>\n",
              "      <td>Супер место. Чистота везде и всегда. Кофе - де...</td>\n",
              "      <td>5.00</td>\n",
              "    </tr>\n",
              "    <tr>\n",
              "      <th>4</th>\n",
              "      <td>&amp; Place</td>\n",
              "      <td>Невский проспект, 71/1</td>\n",
              "      <td>Выбирали из множества вариантов, но этот ковор...</td>\n",
              "      <td>5.00</td>\n",
              "    </tr>\n",
              "  </tbody>\n",
              "</table>\n",
              "</div>\n",
              "      <button class=\"colab-df-convert\" onclick=\"convertToInteractive('df-75269359-7706-48dd-a0b2-ad74021ca245')\"\n",
              "              title=\"Convert this dataframe to an interactive table.\"\n",
              "              style=\"display:none;\">\n",
              "\n",
              "  <svg xmlns=\"http://www.w3.org/2000/svg\" height=\"24px\"viewBox=\"0 0 24 24\"\n",
              "       width=\"24px\">\n",
              "    <path d=\"M0 0h24v24H0V0z\" fill=\"none\"/>\n",
              "    <path d=\"M18.56 5.44l.94 2.06.94-2.06 2.06-.94-2.06-.94-.94-2.06-.94 2.06-2.06.94zm-11 1L8.5 8.5l.94-2.06 2.06-.94-2.06-.94L8.5 2.5l-.94 2.06-2.06.94zm10 10l.94 2.06.94-2.06 2.06-.94-2.06-.94-.94-2.06-.94 2.06-2.06.94z\"/><path d=\"M17.41 7.96l-1.37-1.37c-.4-.4-.92-.59-1.43-.59-.52 0-1.04.2-1.43.59L10.3 9.45l-7.72 7.72c-.78.78-.78 2.05 0 2.83L4 21.41c.39.39.9.59 1.41.59.51 0 1.02-.2 1.41-.59l7.78-7.78 2.81-2.81c.8-.78.8-2.07 0-2.86zM5.41 20L4 18.59l7.72-7.72 1.47 1.35L5.41 20z\"/>\n",
              "  </svg>\n",
              "      </button>\n",
              "\n",
              "\n",
              "\n",
              "    <div id=\"df-a4809135-eef2-4369-9bc5-fa1ff47951bf\">\n",
              "      <button class=\"colab-df-quickchart\" onclick=\"quickchart('df-a4809135-eef2-4369-9bc5-fa1ff47951bf')\"\n",
              "              title=\"Suggest charts.\"\n",
              "              style=\"display:none;\">\n",
              "\n",
              "<svg xmlns=\"http://www.w3.org/2000/svg\" height=\"24px\"viewBox=\"0 0 24 24\"\n",
              "     width=\"24px\">\n",
              "    <g>\n",
              "        <path d=\"M19 3H5c-1.1 0-2 .9-2 2v14c0 1.1.9 2 2 2h14c1.1 0 2-.9 2-2V5c0-1.1-.9-2-2-2zM9 17H7v-7h2v7zm4 0h-2V7h2v10zm4 0h-2v-4h2v4z\"/>\n",
              "    </g>\n",
              "</svg>\n",
              "      </button>\n",
              "    </div>\n",
              "\n",
              "<style>\n",
              "  .colab-df-quickchart {\n",
              "    background-color: #E8F0FE;\n",
              "    border: none;\n",
              "    border-radius: 50%;\n",
              "    cursor: pointer;\n",
              "    display: none;\n",
              "    fill: #1967D2;\n",
              "    height: 32px;\n",
              "    padding: 0 0 0 0;\n",
              "    width: 32px;\n",
              "  }\n",
              "\n",
              "  .colab-df-quickchart:hover {\n",
              "    background-color: #E2EBFA;\n",
              "    box-shadow: 0px 1px 2px rgba(60, 64, 67, 0.3), 0px 1px 3px 1px rgba(60, 64, 67, 0.15);\n",
              "    fill: #174EA6;\n",
              "  }\n",
              "\n",
              "  [theme=dark] .colab-df-quickchart {\n",
              "    background-color: #3B4455;\n",
              "    fill: #D2E3FC;\n",
              "  }\n",
              "\n",
              "  [theme=dark] .colab-df-quickchart:hover {\n",
              "    background-color: #434B5C;\n",
              "    box-shadow: 0px 1px 3px 1px rgba(0, 0, 0, 0.15);\n",
              "    filter: drop-shadow(0px 1px 2px rgba(0, 0, 0, 0.3));\n",
              "    fill: #FFFFFF;\n",
              "  }\n",
              "</style>\n",
              "\n",
              "    <script>\n",
              "      async function quickchart(key) {\n",
              "        const containerElement = document.querySelector('#' + key);\n",
              "        const charts = await google.colab.kernel.invokeFunction(\n",
              "            'suggestCharts', [key], {});\n",
              "      }\n",
              "    </script>\n",
              "\n",
              "      <script>\n",
              "\n",
              "function displayQuickchartButton(domScope) {\n",
              "  let quickchartButtonEl =\n",
              "    domScope.querySelector('#df-a4809135-eef2-4369-9bc5-fa1ff47951bf button.colab-df-quickchart');\n",
              "  quickchartButtonEl.style.display =\n",
              "    google.colab.kernel.accessAllowed ? 'block' : 'none';\n",
              "}\n",
              "\n",
              "        displayQuickchartButton(document);\n",
              "      </script>\n",
              "      <style>\n",
              "    .colab-df-container {\n",
              "      display:flex;\n",
              "      flex-wrap:wrap;\n",
              "      gap: 12px;\n",
              "    }\n",
              "\n",
              "    .colab-df-convert {\n",
              "      background-color: #E8F0FE;\n",
              "      border: none;\n",
              "      border-radius: 50%;\n",
              "      cursor: pointer;\n",
              "      display: none;\n",
              "      fill: #1967D2;\n",
              "      height: 32px;\n",
              "      padding: 0 0 0 0;\n",
              "      width: 32px;\n",
              "    }\n",
              "\n",
              "    .colab-df-convert:hover {\n",
              "      background-color: #E2EBFA;\n",
              "      box-shadow: 0px 1px 2px rgba(60, 64, 67, 0.3), 0px 1px 3px 1px rgba(60, 64, 67, 0.15);\n",
              "      fill: #174EA6;\n",
              "    }\n",
              "\n",
              "    [theme=dark] .colab-df-convert {\n",
              "      background-color: #3B4455;\n",
              "      fill: #D2E3FC;\n",
              "    }\n",
              "\n",
              "    [theme=dark] .colab-df-convert:hover {\n",
              "      background-color: #434B5C;\n",
              "      box-shadow: 0px 1px 3px 1px rgba(0, 0, 0, 0.15);\n",
              "      filter: drop-shadow(0px 1px 2px rgba(0, 0, 0, 0.3));\n",
              "      fill: #FFFFFF;\n",
              "    }\n",
              "  </style>\n",
              "\n",
              "      <script>\n",
              "        const buttonEl =\n",
              "          document.querySelector('#df-75269359-7706-48dd-a0b2-ad74021ca245 button.colab-df-convert');\n",
              "        buttonEl.style.display =\n",
              "          google.colab.kernel.accessAllowed ? 'block' : 'none';\n",
              "\n",
              "        async function convertToInteractive(key) {\n",
              "          const element = document.querySelector('#df-75269359-7706-48dd-a0b2-ad74021ca245');\n",
              "          const dataTable =\n",
              "            await google.colab.kernel.invokeFunction('convertToInteractive',\n",
              "                                                     [key], {});\n",
              "          if (!dataTable) return;\n",
              "\n",
              "          const docLinkHtml = 'Like what you see? Visit the ' +\n",
              "            '<a target=\"_blank\" href=https://colab.research.google.com/notebooks/data_table.ipynb>data table notebook</a>'\n",
              "            + ' to learn more about interactive tables.';\n",
              "          element.innerHTML = '';\n",
              "          dataTable['output_type'] = 'display_data';\n",
              "          await google.colab.output.renderOutput(dataTable, element);\n",
              "          const docLink = document.createElement('div');\n",
              "          docLink.innerHTML = docLinkHtml;\n",
              "          element.appendChild(docLink);\n",
              "        }\n",
              "      </script>\n",
              "    </div>\n",
              "  </div>\n"
            ]
          },
          "metadata": {},
          "execution_count": 5
        }
      ]
    },
    {
      "cell_type": "markdown",
      "source": [
        "#### Аналитика"
      ],
      "metadata": {
        "id": "g6292EGWsk5U"
      }
    },
    {
      "cell_type": "code",
      "source": [
        "from transformers import DistilBertTokenizer, DistilBertModel"
      ],
      "metadata": {
        "id": "jUp8s7_0q8fJ"
      },
      "execution_count": 6,
      "outputs": []
    },
    {
      "cell_type": "code",
      "source": [
        "import torch"
      ],
      "metadata": {
        "id": "CJ9IbRYdyI7R"
      },
      "execution_count": 7,
      "outputs": []
    },
    {
      "cell_type": "code",
      "source": [
        "# Загрузка токенизатора и модели DistilBERT\n",
        "tokenizer = DistilBertTokenizer.from_pretrained('distilbert-base-multilingual-cased')\n",
        "model = DistilBertModel.from_pretrained('distilbert-base-multilingual-cased')"
      ],
      "metadata": {
        "id": "xY7IHvvRsoRO"
      },
      "execution_count": 8,
      "outputs": []
    },
    {
      "cell_type": "code",
      "source": [
        "# Обновление функции encode_text для использования DistilBERT\n",
        "def encode_text(texts):\n",
        "    # Токенизация текстов\n",
        "    inputs = tokenizer(texts, return_tensors='pt', truncation=True, padding=True, max_length=256)\n",
        "\n",
        "    # Пропускание токенизированного текста через модель DistilBERT\n",
        "    outputs = model(**inputs)\n",
        "\n",
        "    # Извлечение векторных представлений текста (последний слой скрытых состояний)\n",
        "    embeddings = outputs.last_hidden_state\n",
        "\n",
        "    # Усреднение по всем токенам для получения векторного представления всего текста\n",
        "    text_vectors = torch.mean(embeddings, dim=1)\n",
        "\n",
        "    return text_vectors"
      ],
      "metadata": {
        "id": "qH3k9I_DsoTL"
      },
      "execution_count": 9,
      "outputs": []
    },
    {
      "cell_type": "code",
      "source": [
        "from torch.utils.data import DataLoader\n",
        "from tqdm import tqdm"
      ],
      "metadata": {
        "id": "rz6I1nZTx9oQ"
      },
      "execution_count": 10,
      "outputs": []
    },
    {
      "cell_type": "code",
      "source": [
        "# Размер батча\n",
        "batch_size = 4\n",
        "\n",
        "# Создание DataLoader для батчевой обработки\n",
        "data_loader = DataLoader(data['Отзыв'].tolist(), batch_size=batch_size)\n",
        "\n",
        "review_vectors = []\n",
        "\n",
        "# Обработка отзывов батчами и сохранение результатов\n",
        "for batch in tqdm(data_loader, desc=\"Processing batches\"):\n",
        "    batch_vectors = encode_text(batch)\n",
        "    review_vectors.extend(batch_vectors)\n",
        "\n"
      ],
      "metadata": {
        "colab": {
          "base_uri": "https://localhost:8080/"
        },
        "id": "MuKE7dg8soVc",
        "outputId": "b6cd40a2-150e-4257-ddcd-f31413e3e335"
      },
      "execution_count": null,
      "outputs": [
        {
          "output_type": "stream",
          "name": "stderr",
          "text": [
            "Processing batches:  46%|████▌     | 53/116 [00:40<00:41,  1.52it/s]"
          ]
        }
      ]
    },
    {
      "cell_type": "code",
      "source": [
        "# Сохранение векторных представлений в DataFrame\n",
        "# df['review_vectors'] = review_vectors\n",
        "\n"
      ],
      "metadata": {
        "id": "bTRdMlM1wTkv"
      },
      "execution_count": null,
      "outputs": []
    },
    {
      "cell_type": "code",
      "source": [
        "data_loader"
      ],
      "metadata": {
        "id": "e7owxXMisoXS"
      },
      "execution_count": null,
      "outputs": []
    },
    {
      "cell_type": "code",
      "source": [],
      "metadata": {
        "id": "s9oxVqrVzHfH"
      },
      "execution_count": null,
      "outputs": []
    }
  ]
}